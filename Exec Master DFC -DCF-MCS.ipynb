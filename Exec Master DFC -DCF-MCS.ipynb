{
 "cells": [
  {
   "attachments": {},
   "cell_type": "markdown",
   "id": "b34ff5a1",
   "metadata": {},
   "source": [
    "# MONTE-CARLO SIMULATION \n",
    "## ESSEC Executive MS in Financial Management and Management Control 2023 by L.J. Gessay\n",
    "This program is a part of my CFO journey and my thesis work on M&A for my ESSEC Executive MS in Financial Management and Management Control graduation. It provides a value range of the target using Montecarlo simulation and DCF. The program takes as inputs the financial statements, assumptions and scenarios of the target company and outputs a valuation report with sensitivity analysis and charts. The program is written in Python and uses pandas, numpy and matplotlib libraries. The program is intended for educational purposes only and does not constitute professional advice or recommendation.\n",
    "Forked from johnnyp2587/simple-dcf, then addition of few parameters, statistics  and output reporting!"
   ]
  },
  {
   "cell_type": "code",
   "execution_count": 1,
   "id": "c9f9afa1",
   "metadata": {},
   "outputs": [],
   "source": [
    "import numpy as np\n",
    "import pandas as pd\n",
    "import matplotlib.pyplot as plt\n",
    "from matplotlib import font_manager\n",
    "%matplotlib inline"
   ]
  },
  {
   "cell_type": "code",
   "execution_count": 2,
   "id": "33ffd2a2",
   "metadata": {},
   "outputs": [],
   "source": [
    "# Key inputs from DCF model\n",
    "target = 'M&A deal code name - L.J. Gessay Thesis Exec Master DFC 23'\n",
    "crcy = '$'\n",
    "years = 5\n",
    "starting_sales = 6.6 #millions\n",
    "capex_percent = depr_percent = 0.03\n",
    "sales_growth = 0.025\n",
    "ebitda_margin = 0.14\n",
    "nwc_percent = 0.20\n",
    "tax_rate = 0.25\n",
    "nb_stock = 1.342277 #millions\n",
    "net_debt = -0.332"
   ]
  },
  {
   "cell_type": "code",
   "execution_count": 3,
   "id": "6b60d2a7",
   "metadata": {},
   "outputs": [],
   "source": [
    "# DCF assumptions\n",
    "r = 0.20\n",
    "g = 0.015"
   ]
  },
  {
   "cell_type": "code",
   "execution_count": 4,
   "id": "de944dfa",
   "metadata": {},
   "outputs": [],
   "source": [
    "# For MCS model\n",
    "iterations = 10000000\n",
    "sales_std_dev = 0.05\n",
    "ebitda_std_dev = 0.01\n",
    "nwc_std_dev = 0.005"
   ]
  },
  {
   "cell_type": "code",
   "execution_count": 5,
   "id": "8cd9678d",
   "metadata": {},
   "outputs": [],
   "source": [
    "def run_mcs():\n",
    "    \n",
    "    \n",
    "    # Generate probability distributions\n",
    "    sales_growth_dist = np.random.normal(loc=sales_growth, \n",
    "                                         scale=sales_std_dev, \n",
    "                                         size=(years, iterations))\n",
    "    ebitda_margin_dist = np.random.normal(loc=ebitda_margin, \n",
    "                                          scale=ebitda_std_dev, \n",
    "                                          size=(years, iterations))\n",
    "    nwc_percent_dist = np.random.normal(loc=nwc_percent, \n",
    "                                        scale=nwc_std_dev, \n",
    "                                        size=(years, iterations))\n",
    "    \n",
    "    # Calculate free cash flow\n",
    "    sales_growth_dist += 1\n",
    "    for i in range(1, len(sales_growth_dist)):\n",
    "        sales_growth_dist[i] *= sales_growth_dist[i-1]\n",
    "    sales = sales_growth_dist * starting_sales\n",
    "    ebitda = sales * ebitda_margin_dist\n",
    "    ebit = ebitda - (sales * depr_percent)\n",
    "    tax = -(ebit * tax_rate)\n",
    "    np.clip(tax, a_min=None, a_max=0)\n",
    "    nwc = nwc_percent_dist * sales\n",
    "    starting_nwc = starting_sales * nwc_percent\n",
    "    prev_year_nwc = np.roll(nwc, 1, axis=0)\n",
    "    prev_year_nwc[0] = starting_nwc\n",
    "    delta_nwc = prev_year_nwc - nwc\n",
    "    capex = -(sales * capex_percent)\n",
    "    free_cash_flow = ebitda + tax + delta_nwc + capex\n",
    "    # Discount cash flows to get DCF value\n",
    "    terminal_value = free_cash_flow[-1] * (1 + g) / (r - g)\n",
    "    discount_rates = [(1 / (1 + r)) ** i for i in range (1,years+1)]\n",
    "    dcf_value = sum((free_cash_flow.T * discount_rates).T) \n",
    "    dcf_value += terminal_value * discount_rates[-1]\n",
    "    total_free_cash_flow = sum((free_cash_flow))\n",
    "    print((dcf_value))  \n",
    "    return   dcf_value\n"
   ]
  },
  {
   "cell_type": "code",
   "execution_count": 6,
   "id": "81340510",
   "metadata": {},
   "outputs": [
    {
     "name": "stdout",
     "output_type": "stream",
     "text": [
      "CPU times: user 2 µs, sys: 0 ns, total: 2 µs\n",
      "Wall time: 5.72 µs\n",
      "[3.05551788 2.98177532 2.83173575 ... 2.46368454 2.74181708 2.74492212]\n",
      "<class 'numpy.ndarray'>\n"
     ]
    },
    {
     "data": {
      "image/png": "[encoded data removed]",
      "text/plain": [
       "<Figure size 864x576 with 1 Axes>"
      ]
     },
     "metadata": {},
     "output_type": "display_data"
    },
    {
     "name": "stdout",
     "output_type": "stream",
     "text": [
      "# *** M&A deal code name - L.J. Gessay Thesis Exec Master DFC 23 - Monte-Carlo simulation 10,000,000 scenarios ***\n",
      "\n",
      "## Parameters\n",
      "5 Years ; WACC :20.0% ; Sales growth : 2.5% ; Perpetual growth : 1.5% ;\n",
      "Starting Sales : M$ 6.6 ; Ebitda margin : 14.0% ; Capex & Depreciation : 3.0% ;\n",
      "Net working capital : 20.0% ; Tax rate : 25.0% ; Net debt : M$ -0.3;\n",
      "Sales std dev : 5.0% ; Ebitda std dev : 1.0% ; NWC std dev : 0.5%\n",
      "\n",
      "## Enterprise Value \n",
      "\tAverage case : M$ 2.91  equ. x3.2 Ebitda - Standard deviation: M$ 0.27\n",
      "\tWorst case: M$ 1.38  equ. x1.5 Ebitda - Best case: M$ 4.58 equ. x5.0 Ebitda\n",
      "\t68% value range: M$ 2.64 equ. x2.9 Ebitda and M$ 3.19 equ. x3.5 Ebitda\n",
      "\t95% value range: M$ 2.37 equ. x2.6 Ebitda and M$ 3.46 equ. x3.7 Ebitda\n",
      "\n",
      "## Equity Value \n",
      "\tAverage case: M$ 3.25 - Standard deviation: M$ 0.27\n",
      "\tWorst case: M$ 1.71 - Best case: M$ 4.91\n",
      "\t68% value range: M$ 2.97 and M$ 3.52\n",
      "\t95% value range: M$ 2.7 and M$ 3.79\n",
      "\n",
      "Total number of shares :  1,342,277\n",
      "\n",
      "##Equity Value per share \n",
      "\tAverage case : $ 2.42 - Standard deviation: $ 0.2\n",
      "\tWorst case: $ 1.27 - Best case: $ 3.66\n",
      "\t68% value range: $ 2.21 and $ 2.62\n",
      "\t95% value range: $ 2.01 and $ 2.83\n"
     ]
    },
    {
     "data": {
      "text/plain": [
       "''"
      ]
     },
     "execution_count": 6,
     "metadata": {},
     "output_type": "execute_result"
    }
   ],
   "source": [
    "%time \n",
    "sims =run_mcs()\n",
    "print(type(sims))\n",
    "\n",
    "# Set up stat \n",
    "worst = sims.min()\n",
    "avg = sims.mean()\n",
    "best = sims.max()\n",
    "std_dev = sims.std()\n",
    "\n",
    "# Set up confidence intervals\n",
    "upper68 = avg+std_dev\n",
    "lower68 = avg-std_dev\n",
    "upper95 = avg+std_dev*2\n",
    "lower95 = avg-std_dev*2\n",
    "\n",
    "# Draw the distribution of the results\n",
    "font = font_manager.FontProperties(family='Arial', size=14)\n",
    "plt.style.use('seaborn')\n",
    "fig, ax = plt.subplots(figsize=(12, 8))\n",
    "ax.hist(sims, bins=25, color='#006699')\n",
    "\n",
    "# Add a title and axis labels\n",
    "ax.set_title(\"Distribution of the company value\", fontproperties=font)\n",
    "ax.set_xlabel(f\"Enterprise Value in M{crcy}\", fontproperties=font)\n",
    "ax.set_ylabel(\"Frequency\", fontproperties=font);\n",
    "\n",
    "# Plot the probability distribution\n",
    "ax.axvline(avg, color = 'r', linestyle='dashed', linewidth=1)\n",
    "ax.annotate(round(avg,1), xy = (avg-3, 14000), fontsize = 17, color = 'w')\n",
    "ax.axvline(upper68, color = 'k', linestyle='dashed', linewidth=1)\n",
    "ax.axvline(lower68, color = 'k', linestyle='dashed', linewidth=1)\n",
    "ax.axvline(upper95, color = 'k', linestyle='dashed', linewidth=1)\n",
    "ax.axvline(lower95, color = 'k', linestyle='dashed', linewidth=1)\n",
    "\n",
    "# Show distribution \n",
    "plt.show()\n",
    "\n",
    "\n",
    "\n",
    "# Print out confidence intervals\n",
    "print(f\"# *** {target} - Monte-Carlo simulation {round(iterations,0):,d} scenarios ***\\n\")\n",
    "\n",
    "print(f\"## Parameters\\n{years} Years ; WACC :{r*100}% ; Sales growth : {sales_growth*100}% ; Perpetual growth : {g*100}% ;\\n\\\n",
    "Starting Sales : M{crcy} {starting_sales} ; Ebitda margin : {round(ebitda_margin*100,2)}% ; Capex & Depreciation : {capex_percent*100}% ;\\n\\\n",
    "Net working capital : {nwc_percent*100}% ; Tax rate : {tax_rate*100}% ; Net debt : M{crcy} {round(net_debt,1)};\\n\\\n",
    "Sales std dev : {sales_std_dev*100}% ; Ebitda std dev : {ebitda_std_dev*100}% ; NWC std dev : {nwc_std_dev*100}%\\n\")\n",
    "\n",
    "print(f\"## Enterprise Value \\n\\tAverage case : M{crcy} {round(avg,2)}  equ. x{round(avg/(starting_sales*ebitda_margin),1)} Ebitda - Standard deviation: M{crcy} {round(std_dev,2)}\")\n",
    "print(f\"\\tWorst case: M{crcy} {round(worst,2)}  equ. x{round(worst/(starting_sales*ebitda_margin),1)} Ebitda - Best case: M{crcy} {round(best,2)} equ. x{round(best/(starting_sales*ebitda_margin),1)} Ebitda\")\n",
    "print(f\"\\t68% value range: M{crcy} {round(lower68,2)} equ. x{round(lower68/(starting_sales*ebitda_margin),1)} Ebitda and M{crcy} {round(upper68,2)} equ. x{round(upper68/(starting_sales*ebitda_margin),1)} Ebitda\")\n",
    "print(f\"\\t95% value range: M{crcy} {round(lower95,2)} equ. x{round(lower95/(starting_sales*ebitda_margin),1)} Ebitda and M{crcy} {round(upper95,2)} equ. x{round(upper95/(starting_sales*ebitda_margin),1)} Ebitda\\n\")\n",
    "\n",
    "# Print out confidence intervals\n",
    "print(f\"## Equity Value \\n\\tAverage case: M{crcy} {round((avg-net_debt),2)} - Standard deviation: M{crcy} {round(std_dev,2)}\")\n",
    "print(f\"\\tWorst case: M{crcy} {round((worst-net_debt),2)} - Best case: M{crcy} {round((best-net_debt),2)}\")\n",
    "print(f\"\\t68% value range: M{crcy} {round((lower68-net_debt),2)} and M{crcy} {round((upper68-net_debt),2)}\")\n",
    "print(f\"\\t95% value range: M{crcy} {round((lower95-net_debt),2)} and M{crcy} {round((upper95-net_debt),2)}\\n\")\n",
    "\n",
    "print(f\"Total number of shares :  {round(nb_stock*1000000,0):,.0f}\\n\")\n",
    "print(f\"##Equity Value per share \\n\\tAverage case : {crcy} {round((avg-net_debt)/nb_stock,2)} - Standard deviation: {crcy} {round(std_dev/nb_stock,2)}\")\n",
    "print(f\"\\tWorst case: {crcy} {round((worst-net_debt)/nb_stock,2)} - Best case: {crcy} {round((best-net_debt)/nb_stock,2)}\")\n",
    "print(f\"\\t68% value range: {crcy} {round((lower68-net_debt)/nb_stock,2)} and {crcy} {round((upper68-net_debt)/nb_stock,2)}\")\n",
    "print(f\"\\t95% value range: {crcy} {round((lower95-net_debt)/nb_stock,2)} and {crcy} {round((upper95-net_debt)/nb_stock,2)}\")\n",
    ";"
   ]
  },
  {
   "cell_type": "code",
   "execution_count": null,
   "id": "59c22aa9",
   "metadata": {},
   "outputs": [],
   "source": []
  }
 ],
 "metadata": {
  "kernelspec": {
   "display_name": "Python 3 (ipykernel)",
   "language": "python",
   "name": "python3"
  },
  "language_info": {
   "codemirror_mode": {
    "name": "ipython",
    "version": 3
   },
   "file_extension": ".py",
   "mimetype": "text/x-python",
   "name": "python",
   "nbconvert_exporter": "python",
   "pygments_lexer": "ipython3",
   "version": "3.9.7"
  }
 },
 "nbformat": 4,
 "nbformat_minor": 5
}
